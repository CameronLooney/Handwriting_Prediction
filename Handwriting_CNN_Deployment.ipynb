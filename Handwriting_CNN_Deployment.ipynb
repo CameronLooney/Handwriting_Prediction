{
 "cells": [
  {
   "cell_type": "markdown",
   "metadata": {},
   "source": [
    "# Letter Prediction CNN Deployment"
   ]
  },
  {
   "cell_type": "markdown",
   "metadata": {},
   "source": [
    "This is the deployment of my neural network that is used to predict handwritten letters"
   ]
  },
  {
   "cell_type": "markdown",
   "metadata": {},
   "source": [
    "### Import packages"
   ]
  },
  {
   "cell_type": "code",
   "execution_count": 1,
   "metadata": {},
   "outputs": [],
   "source": [
    "import cv2\n",
    "import numpy as np \n",
    "import sqlite3\n",
    "import sys\n",
    "import os \n",
    "import tkinter as tk\n",
    "from tkinter import filedialog\n",
    "from tkinter import *\n",
    "from PIL import ImageTk, Image"
   ]
  },
  {
   "cell_type": "markdown",
   "metadata": {},
   "source": [
    "## Generate our SQL db connection \n",
    "We are using sqlite for this implementation"
   ]
  },
  {
   "cell_type": "code",
   "execution_count": 2,
   "metadata": {},
   "outputs": [
    {
     "data": {
      "text/plain": [
       "<sqlite3.Cursor at 0x1ff601818f0>"
      ]
     },
     "execution_count": 2,
     "metadata": {},
     "output_type": "execute_result"
    }
   ],
   "source": [
    "\n",
    "conn = sqlite3.connect('Predictions_letters.db')\n",
    "  \n",
    "sql_create_pred_table = \"\"\" CREATE TABLE IF NOT EXISTS letter_pred(\n",
    "                                        id integer PRIMARY KEY,\n",
    "                                        prediction text NOT NULL,\n",
    "                                        image BLOB NOT NULL\n",
    "                                        \n",
    "                                    ); \"\"\"\n",
    "\n",
    "c = conn.cursor()\n",
    "c.execute(sql_create_pred_table)"
   ]
  },
  {
   "cell_type": "markdown",
   "metadata": {},
   "source": [
    "## Deployment of Model using Tkinter, PIL, cv2"
   ]
  },
  {
   "cell_type": "code",
   "execution_count": 9,
   "metadata": {},
   "outputs": [
    {
     "name": "stdout",
     "output_type": "stream",
     "text": [
      "Connected to SQLite\n",
      "Image and file inserted successfully as a BLOB into a table\n"
     ]
    }
   ],
   "source": [
    "\n",
    "#load the trained model to classify sign\n",
    "from keras.models import load_model\n",
    "model = load_model('model_handwriting_final_model.h5')\n",
    "#dictionary to label all traffic signs class.\n",
    "classes ={0:'A',1:'B',2:'C',3:'D',4:'E',5:'F',6:'G',7:'H',8:'I',9:'J',10:'K',11:'L',12:'M',\n",
    "             13:'N',14:'O',15:'P',16:'Q',17:'R',18:'S',19:'T',20:'U',21:'V',22:'W',23:'X', 24:'Y',25:'Z'}\n",
    "#initialise GUI\n",
    "top=tk.Tk()\n",
    "top.geometry('800x600')\n",
    "top.title('Letter Classification')\n",
    "top.configure(background='#CDCDCD')\n",
    "label=Label(top,background='#CDCDCD', font=('arial',15,'bold'))\n",
    "sign_image = Label(top)\n",
    "\n",
    "def classify(file_path):\n",
    " \n",
    "    global label_packed\n",
    "    img = cv2.imread(file_path)\n",
    "    img_copy = img.copy()\n",
    "\n",
    "    img = cv2.cvtColor(img, cv2.COLOR_BGR2RGB)\n",
    "    img = cv2.resize(img, (400,440))\n",
    "    img_copy = cv2.GaussianBlur(img_copy, (7,7), 0)\n",
    "    image = Image.open(file_path)\n",
    "    img_copy = cv2.GaussianBlur(img_copy, (7,7), 0)\n",
    "    img_gray = cv2.cvtColor(img_copy, cv2.COLOR_BGR2GRAY)\n",
    "    _, img_thresh = cv2.threshold(img_gray, 100, 255, cv2.THRESH_BINARY_INV)\n",
    "\n",
    "    img_final = cv2.resize(img_thresh, (28,28))\n",
    "    img_final =np.reshape(img_final, (1,28,28,1))\n",
    "    pred = model.predict_classes([img_final])[0]\n",
    "    sign = classes[pred]\n",
    "    label.configure(foreground='#011638', text=\"Letter Prediction: \" + str(sign))\n",
    "    \n",
    "    try:\n",
    "        \n",
    "        cursor = conn.cursor()\n",
    "        print(\"Connected to SQLite\")\n",
    "        sqlite_insert_blob_query = \"\"\" INSERT INTO letter_pred\n",
    "            (id, prediction, image) VALUES (?, ?, ?)\"\"\"\n",
    "        cursor.execute(\"select count(*) from letter_pred\")\n",
    "        values = cursor.fetchone()\n",
    "        index = (int(values[0]+1))\n",
    "        # remember order is id, prediction, image\n",
    "        data_tuple = (index, sign, file_path)\n",
    "        cursor.execute(sqlite_insert_blob_query, data_tuple)\n",
    "        conn.commit()\n",
    "        print(\"Image and file inserted successfully as a BLOB into a table\")\n",
    "        cursor.close()\n",
    "    except:\n",
    "        print(\"error\")\n",
    "def restart_full():\n",
    "        os.execl(sys.executable, sys.executable, *sys.argv)\n",
    "def show_classify_button(file_path):\n",
    "    classify_b=Button(top,text=\"Classify Image\",command=lambda: classify(file_path),padx=10,pady=5)\n",
    "    classify_b.configure(background='#364156', foreground='white',font=('arial',10,'bold'))\n",
    "    classify_b.place(relx=0.79,rely=0.46)\n",
    "def upload_image():\n",
    "    try:\n",
    "        file_path=filedialog.askopenfilename()\n",
    "        uploaded=Image.open(file_path)\n",
    "        uploaded.thumbnail(((top.winfo_width()/2.25),(top.winfo_height()/2.25)))\n",
    "        im=ImageTk.PhotoImage(uploaded)\n",
    "        sign_image.configure(image=im)\n",
    "        sign_image.image=im\n",
    "        label.configure(text='')\n",
    "        show_classify_button(file_path)\n",
    "    except:\n",
    "        pass\n",
    "restart=Button(top,text=\"Restart\",command=restart_full,padx=10,pady=5)\n",
    "restart.configure(background='#364156', foreground='white',font=('arial',10,'bold'))\n",
    "restart.pack(side=BOTTOM,pady=50)\n",
    "upload=Button(top,text=\"Upload an image\",command=upload_image,padx=10,pady=5)\n",
    "upload.configure(background='#364156', foreground='white',font=('arial',10,'bold'))\n",
    "upload.pack(side=BOTTOM,pady=50)\n",
    "\n",
    "\n",
    "sign_image.pack(side=BOTTOM,expand=True)\n",
    "label.pack(side=BOTTOM,expand=True)\n",
    "heading = Label(top, text=\"Upload a letter image to be predicted\",pady=20, font=('arial',20,'bold'))\n",
    "heading.configure(background='#CDCDCD',foreground='#364156')\n",
    "heading.pack()\n",
    "top.mainloop()\n",
    "\n"
   ]
  },
  {
   "cell_type": "markdown",
   "metadata": {},
   "source": [
    "## Some example functions to query the db"
   ]
  },
  {
   "cell_type": "code",
   "execution_count": 11,
   "metadata": {},
   "outputs": [
    {
     "name": "stdout",
     "output_type": "stream",
     "text": [
      "DB is empty\n"
     ]
    }
   ],
   "source": [
    "import random\n",
    "c = conn.cursor()\n",
    "#c.execute('DELETE FROM letter_pred')\n",
    "def open_image_with_index(ind):\n",
    "   \n",
    "    c.execute(\"SELECT image from letter_pred WHERE id =?\",str(ind))\n",
    "    x = c.fetchone()\n",
    "\n",
    "    im = Image.open(x[0])\n",
    "    im.show()\n",
    "    \n",
    "#open_image_with_index(1)\n",
    "def open_first_prediction_of_letter(letter):\n",
    "    \n",
    "    c.execute('''SELECT image from letter_pred WHERE prediction =  ?''',letter)\n",
    "    x = c.fetchall()\n",
    "    im = Image.open(x[0][0]) \n",
    "    im.show()\n",
    "#open_first_prediction_of_letter(\"B\")\n",
    "def select_random_image():\n",
    "    c.execute(\"select count(*) from letter_pred\")\n",
    "    values = c.fetchone()\n",
    "    db_len= (int(values[0]))\n",
    "    if db_len >0:\n",
    "        random_number = random.randint(1,db_len )\n",
    "        open_image_with_index(random_number)\n",
    "    else:\n",
    "        print(\"DB is empty\")\n",
    "\n",
    "select_random_image()"
   ]
  }
 ],
 "metadata": {
  "kernelspec": {
   "display_name": "Python 3",
   "language": "python",
   "name": "python3"
  },
  "language_info": {
   "codemirror_mode": {
    "name": "ipython",
    "version": 3
   },
   "file_extension": ".py",
   "mimetype": "text/x-python",
   "name": "python",
   "nbconvert_exporter": "python",
   "pygments_lexer": "ipython3",
   "version": "3.7.3"
  }
 },
 "nbformat": 4,
 "nbformat_minor": 2
}
